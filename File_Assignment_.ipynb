{
  "nbformat": 4,
  "nbformat_minor": 0,
  "metadata": {
    "colab": {
      "provenance": []
    },
    "kernelspec": {
      "name": "python3",
      "display_name": "Python 3"
    },
    "language_info": {
      "name": "python"
    }
  },
  "cells": [
    {
      "cell_type": "markdown",
      "source": [
        "1. What is the difference between interpreted and compiled languages?\n",
        "\n",
        "Ans - The main difference between compiled and interpreted languages is how they translate source code into machine code.\n",
        "\n",
        "Compiled languages: Convert source code into machine code once, and then the executable file can be run without the source code.\n",
        "\n",
        "Interpreted languages: Convert source code into machine code each time the program is run."
      ],
      "metadata": {
        "id": "kaRbxwDPgLph"
      }
    },
    {
      "cell_type": "markdown",
      "source": [
        " 2. What is exception handling in Python?\n",
        "\n",
        " Ans -Exception handling in Python is a mechanism that allows a program to respond to errors instead of crashing. It allows the program to continue running or exit gracefully when an unexpected event occurs."
      ],
      "metadata": {
        "id": "RNHCmVsegyv1"
      }
    },
    {
      "cell_type": "markdown",
      "source": [
        "3. What is the purpose of the finally block in exception handling?\n",
        "\n",
        "Ans - The finally block in exception handling is used to write code that must run no matter what—whether an exception occurs or not. It is typically used for cleanup tasks, like closing files or releasing resources."
      ],
      "metadata": {
        "id": "l55Z06fihVQ5"
      }
    },
    {
      "cell_type": "markdown",
      "source": [
        "4.  What is logging in Python?\n",
        "\n",
        "Ans - Logging in Python is a way to track events that happen while a program is running. It allows developers to record messages, such as errors, warnings, or informational details, in a systematic way. Python's built-in logging module makes it easy to log messages to different outputs like the console or files, helping with debugging and monitoring applications."
      ],
      "metadata": {
        "id": "SrYVIgg_mI4j"
      }
    },
    {
      "cell_type": "markdown",
      "source": [
        "5. What is the significance of the __del__ method in Python?\n",
        "\n",
        "Ans - The __del__ method in Python is a special method, also known as a destructor, that is called when an object is about to be destroyed (i.e., when it is no longer in use, and its reference count drops to zero). It allow us to define cleanup actions, such as releasing resources like file handles or network connections, before the object is garbage collected."
      ],
      "metadata": {
        "id": "CcE9pYodmdNU"
      }
    },
    {
      "cell_type": "markdown",
      "source": [
        "6. What is the difference between import and from ... import in Python?\n",
        "\n",
        "Ans -The difference between import and from ... import in Python lies in how they import modules or specific components from a module:\n",
        "\n",
        " * import:\n",
        "\n",
        "-> Imports the entire module.\n",
        "\n",
        "-> We can access the module's components using the module name as a prefix.\n",
        "\n",
        "        import math\n",
        "        print(math.sqrt(16))  # Access sqrt using math module\n",
        "\n",
        " * from ... import:\n",
        "\n",
        "-> Imports specific components (e.g., functions, classes, or variables) from a module.\n",
        "\n",
        "-> We can directly use the imported components without the module prefix.\n",
        "\n",
        "        from math import sqrt\n",
        "        print(sqrt(16))  # Directly use sqrt\n",
        "\n"
      ],
      "metadata": {
        "id": "D9R6_mI1mwmw"
      }
    },
    {
      "cell_type": "markdown",
      "source": [
        "7. How can you handle multiple exceptions in Python?\n",
        "\n",
        "Ans -We can handle multiple exceptions in Python by:\n",
        "\n",
        "Using a tuple:\n",
        "\n",
        "    try:\n",
        "        x = int(\"abc\")\n",
        "    except (ValueError, TypeError) as e:\n",
        "        print(e)\n",
        "\n",
        "Using multiple except blocks:\n",
        "\n",
        "    try:\n",
        "        x = 10 / 0\n",
        "    except ZeroDivisionError:\n",
        "        print(\"Divide by zero error\")\n",
        "    except ValueError:\n",
        "        print(\"Invalid value\")\n",
        "\n",
        "Using a generic except block (not recommended unless necessary):\n",
        "\n",
        "    try:\n",
        "        x = int(\"abc\")\n",
        "    except Exception as e:\n",
        "        print(e)\n",
        "\n"
      ],
      "metadata": {
        "id": "q5bTCGREm-1e"
      }
    },
    {
      "cell_type": "markdown",
      "source": [
        "8.  What is the purpose of the with statement when handling files in Python?\n",
        "\n",
        "Ans - The with statement in Python is used for managing resources like file handling. It ensures that the file is automatically closed after its block is executed, even if an error occurs, eliminating the need for explicit close() calls. This simplifies code and prevents resource leaks.\n",
        "\n",
        "    with open(\"example.txt\", \"r\") as file:\n",
        "        content = file.read()\n"
      ],
      "metadata": {
        "id": "BgNKyz_wnGfg"
      }
    },
    {
      "cell_type": "markdown",
      "source": [
        "9. What is the difference between multithreading and multiprocessing?\n",
        "\n",
        "Ans - The key differences between multithreading and multiprocessing are:\n",
        "\n",
        "Definition: Multithreading uses multiple threads within the same process; multiprocessing uses multiple independent processes.\n",
        "\n",
        "Memory: Threads share memory, while processes have separate memory.\n",
        "\n",
        "GIL: Multithreading is limited by Python's GIL; multiprocessing avoids it for true parallelism.\n",
        "\n",
        "Overhead: Multithreading has lower memory overhead; multiprocessing has higher overhead.\n",
        "\n",
        "Use Case: Multithreading suits I/O-bound tasks; multiprocessing is better for CPU-bound tasks."
      ],
      "metadata": {
        "id": "uW409tqMnRoG"
      }
    },
    {
      "cell_type": "markdown",
      "source": [
        "10. What are the advantages of using logging in a program?\n",
        "\n",
        "Ans - Logging helps with debugging, monitoring, and troubleshooting by recording system activities and errors. It improves performance analysis, provides transparency, aids in compliance, and allows for easier collaboration and retrospective analysis. It also helps in diagnosing issues in production environments without interrupting the system's operation."
      ],
      "metadata": {
        "id": "Q4_gd5BQnVTm"
      }
    },
    {
      "cell_type": "markdown",
      "source": [
        "11. What is memory management in Python?\n",
        "\n",
        "Ans - Memory management in Python is the process of automatically handling the memory used by the program. Python takes care of it by:\n",
        "\n",
        "Garbage Collection: It automatically removes unused objects from memory.\n",
        "\n",
        "Reference Counting: It tracks how many times an object is used and frees the memory when it's no longer needed.\n",
        "\n",
        "Memory Pools: It allocates memory in large blocks to avoid wasting space and improve speed.\n",
        "\n",
        "Preventing Memory Leaks: It cleans up objects that are no longer in use, even if they refer to each other."
      ],
      "metadata": {
        "id": "BRzDlKjgnY4_"
      }
    },
    {
      "cell_type": "markdown",
      "source": [
        "12. What are the basic steps involved in exception handling in Python?\n",
        "\n",
        "Ans - Exception handling in Python involves these basic steps:\n",
        "\n",
        "Try: Write the code that might cause an error inside a try block.\n",
        "\n",
        "Except: If an error occurs, it goes to the except block where you handle the error.\n",
        "\n",
        "Else: (Optional) If no error occurs, the else block runs.\n",
        "\n",
        "Finally: (Optional) This block runs no matter what, useful for cleanup tasks."
      ],
      "metadata": {
        "id": "zXVfkiIHrkup"
      }
    },
    {
      "cell_type": "markdown",
      "source": [
        "13.  Why is memory management important in Python?\n",
        "\n",
        "Ans - Memory management in Python is important because it helps the program use memory efficiently, avoid slowdowns, and prevent crashes. It frees up unused memory automatically, making the program run faster and more stable. Proper memory management ensures that resources are used wisely without wasting them."
      ],
      "metadata": {
        "id": "0VEKoC-jr40R"
      }
    },
    {
      "cell_type": "markdown",
      "source": [
        "14. What is the role of try and except in exception handling?\n",
        "\n",
        "Ans - In exception handling, the try block is used to write code that might cause an error. If an error occurs, the program jumps to the except block, where we can handle the error (e.g., show a message or take action).\n",
        "\n",
        "In short:\n",
        "\n",
        "try: Runs the code that might cause an error.\n",
        "\n",
        "except: Handles the error if it happens"
      ],
      "metadata": {
        "id": "UF-iizwWsNA9"
      }
    },
    {
      "cell_type": "markdown",
      "source": [
        "15. How does Python's garbage collection system work?\n",
        "\n",
        "Ans - Python's garbage collection system automatically frees up memory by:\n",
        "\n",
        "Reference Counting: It keeps track of how many times an object is used. When it's no longer needed, memory is freed.\n",
        "\n",
        "Garbage Collector: It checks for objects that are no longer in use (even if they refer to each other) and removes them.\n",
        "\n",
        "This helps prevent memory waste and keeps the program running smoothly."
      ],
      "metadata": {
        "id": "PG-jARl7sd3Y"
      }
    },
    {
      "cell_type": "markdown",
      "source": [
        "16.  What is the purpose of the else block in exception handling?\n",
        "\n",
        "Ans - The else block in exception handling runs only if no error occurs in the try block. It allow us to execute code that should happen when everything goes smoothly, without any exceptions.\n",
        "\n",
        "In short, the else block is for code that runs when there's no error."
      ],
      "metadata": {
        "id": "IYbx9-KassVJ"
      }
    },
    {
      "cell_type": "markdown",
      "source": [
        "17. What are the common logging levels in Python?\n",
        "\n",
        "Ans - The common logging levels in Python are:\n",
        "\n",
        "DEBUG: For detailed information, usually helpful for diagnosing problems.\n",
        "\n",
        "INFO: For general information about the program's normal operation.\n",
        "\n",
        "WARNING: For situations that are unexpected but don't stop the program.\n",
        "\n",
        "ERROR: For serious issues that prevent a part of the program from working.\n",
        "\n",
        "CRITICAL: For very serious errors that might stop the program entirely.\n",
        "\n",
        "Each level indicates the severity of the messages being logged."
      ],
      "metadata": {
        "id": "_kPrcLZts5ds"
      }
    },
    {
      "cell_type": "markdown",
      "source": [
        "18. What is the difference between os.fork() and multiprocessing in Python?\n",
        "\n",
        "Ans - The difference between os.fork() and multiprocessing in Python is:\n",
        "\n",
        "* os.fork():\n",
        "\n",
        "-> It creates a child process by duplicating the parent process.\n",
        "\n",
        "-> It's specific to Unix-based systems (Linux, macOS).\n",
        "\n",
        "-> The child process shares the memory space of the parent, which can lead to complications with data sharing.\n",
        "\n",
        "* multiprocessing:\n",
        "\n",
        "-> It's a module that provides a higher-level interface for creating and managing processes.\n",
        "\n",
        "-> It works across all operating systems (including Windows).\n",
        "\n",
        "-> Each process runs independently, with its own memory space, and allows easier communication between processes using Queue, Pipe, etc.\n",
        "\n",
        "In short, os.fork() is a lower-level function mainly for Unix, while multiprocessing is a cross-platform, higher-level way to handle multiple processes in Python."
      ],
      "metadata": {
        "id": "q_YiqTqytF7-"
      }
    },
    {
      "cell_type": "markdown",
      "source": [
        "19. What is the importance of closing a file in Python?\n",
        "\n",
        "Ans- Closing a file in Python is important because it frees up system resources, ensures that all changes are saved, and prevents errors. It makes sure the file is properly closed after use."
      ],
      "metadata": {
        "id": "tiyKqYZP1q3-"
      }
    },
    {
      "cell_type": "markdown",
      "source": [
        "20.  What is the difference between file.read() and file.readline() in Python?\n",
        "\n",
        "Ans - The difference between file.read() and file.readline() is:\n",
        "\n",
        "* file.read(): Reads the entire content of the file at once as a single string.\n",
        "\n",
        "* file.readline(): Reads one line at a time from the file.\n",
        "\n",
        "In short, read() gets everything in the file, while readline() gets one line at a time."
      ],
      "metadata": {
        "id": "RVzY1Dna1vb6"
      }
    },
    {
      "cell_type": "markdown",
      "source": [
        "21. What is the logging module in Python used for?\n",
        "\n",
        "Ans- The logging module in Python is used to track and record events that happen while the program is running. It helps in debugging, monitoring, and keeping a record of what the program does, such as errors, warnings, or general information. It allows you to log messages with different severity levels (e.g., info, warning, error)."
      ],
      "metadata": {
        "id": "wIFrAEP91zw-"
      }
    },
    {
      "cell_type": "markdown",
      "source": [
        "22.  What is the os module in Python used for in file handling?\n",
        "\n",
        "Ans - The os module in Python is used for interacting with the operating system and helps with file handling tasks like:\n",
        "\n",
        "-> Creating, deleting, and renaming files and directories.\n",
        "\n",
        "-> Checking if a file or directory exists.\n",
        "\n",
        "-> Changing the current working directory.\n",
        "\n",
        "-> Getting information about files (like size, permissions).\n",
        "\n",
        "In short, the os module lets us perform system-level file operations."
      ],
      "metadata": {
        "id": "z6w8tVVB132w"
      }
    },
    {
      "cell_type": "markdown",
      "source": [
        "23.  What are the challenges associated with memory management in Python?\n",
        "\n",
        "Ans - Challenges in Python memory management include:\n",
        "\n",
        "-> Memory Leaks: Unused memory might not be freed properly.\n",
        "\n",
        "-> Garbage Collection Overhead: Automatic cleaning can slow down the program.\n",
        "\n",
        "-> High Memory Usage: Python uses more memory compared to some other languages.\n",
        "\n",
        "-> Fragmentation: Memory can get inefficiently used if small objects are created and deleted often.\n",
        "\n",
        "In short, while Python manages memory automatically, it can still face performance and efficiency issues."
      ],
      "metadata": {
        "id": "HrI8IDhW15ds"
      }
    },
    {
      "cell_type": "markdown",
      "source": [
        "24. How do you raise an exception manually in Python?\n",
        "\n",
        "Ans - To raise an exception manually in Python, we use the raise keyword followed by the exception you want to raise.\n",
        "\n",
        "    raise ValueError(\"This is an error message\")"
      ],
      "metadata": {
        "id": "3uQ-ClU617K9"
      }
    },
    {
      "cell_type": "markdown",
      "source": [
        "25.  Why is it important to use multithreading in certain applications?\n",
        "\n",
        "Ans - Multithreading is important because it allows a program to do multiple things at the same time, making it faster and more efficient.\n",
        "\n",
        "It helps improve performance, responsiveness, and the use of resources, especially when handling tasks like file reading, network requests, or background operations."
      ],
      "metadata": {
        "id": "Jhy3JfzU19N5"
      }
    },
    {
      "cell_type": "code",
      "source": [
        "#1 How can you open a file for writing in Python and write a string to it.\n",
        "\n",
        "with open('file.txt', 'w') as file:\n",
        "    file.write(\"Hello, world!\")\n"
      ],
      "metadata": {
        "id": "l-xASD6533UQ"
      },
      "execution_count": 1,
      "outputs": []
    },
    {
      "cell_type": "code",
      "source": [
        " #2. Write a Python program to read the contents of a file and print each line.\n",
        "\n",
        "with open('file.txt', 'r') as file:\n",
        "    file.readline()\n"
      ],
      "metadata": {
        "id": "EFzCck4Y4JCl"
      },
      "execution_count": 6,
      "outputs": []
    },
    {
      "cell_type": "code",
      "source": [
        "#3. How would you handle a case where the file doesn't exist while trying to open it for reading?\n",
        "\n",
        "try:\n",
        "    with open('file.txt', 'r') as file:\n",
        "        content = file.read()\n",
        "        print(content)\n",
        "except FileNotFoundError:\n",
        "    print(\"The file does not exist.\")\n"
      ],
      "metadata": {
        "colab": {
          "base_uri": "https://localhost:8080/"
        },
        "id": "2tjJ4cX95PCY",
        "outputId": "6afeb8ff-60f0-4e0d-b021-d46079ef04ef"
      },
      "execution_count": 7,
      "outputs": [
        {
          "output_type": "stream",
          "name": "stdout",
          "text": [
            "\n"
          ]
        }
      ]
    },
    {
      "cell_type": "code",
      "source": [
        "#4. Write a Python script that reads from one file and writes its content to another file.\n",
        "\n",
        "with open('source.txt', 'r') as source_file, open('destination.txt', 'w') as dest_file:\n",
        "\n",
        "    content = source_file.read() # Read the content from the source file\n",
        "\n",
        "    dest_file.write(content)     # Write the content to the destination file\n"
      ],
      "metadata": {
        "id": "Bmk0yYqJ5biC"
      },
      "execution_count": 10,
      "outputs": []
    },
    {
      "cell_type": "code",
      "source": [
        "#5. How would you catch and handle division by zero error in Python?\n",
        "\n",
        "try:\n",
        "    result = 10 / 0  # Division by zero\n",
        "except ZeroDivisionError:\n",
        "    print(\"Error: Division by zero is not allowed.\")\n",
        "\n"
      ],
      "metadata": {
        "colab": {
          "base_uri": "https://localhost:8080/"
        },
        "id": "G8tn-ut15e3r",
        "outputId": "6c11ee1e-04f8-44e2-9ddc-1a8d0df6864e"
      },
      "execution_count": 11,
      "outputs": [
        {
          "output_type": "stream",
          "name": "stdout",
          "text": [
            "Error: Division by zero is not allowed.\n"
          ]
        }
      ]
    },
    {
      "cell_type": "code",
      "source": [
        "#6. Write a Python program that logs an error message to a log file when a division by zero exception occurs.\n",
        "\n",
        "import logging\n",
        "\n",
        "# Set up logging to a file\n",
        "logging.basicConfig(filename='error_log.txt', level=logging.ERROR)\n",
        "\n",
        "try:\n",
        "    result = 10 / 0  # Division by zero\n",
        "except ZeroDivisionError as e:\n",
        "    logging.error(f\"Error: {e} - Division by zero occurred.\")\n",
        "\n",
        ""
      ],
      "metadata": {
        "colab": {
          "base_uri": "https://localhost:8080/"
        },
        "id": "yWoUykZr5ibV",
        "outputId": "947801ae-fe6c-4728-a0fa-89d38206aa9f"
      },
      "execution_count": 12,
      "outputs": [
        {
          "output_type": "stream",
          "name": "stderr",
          "text": [
            "ERROR:root:Error: division by zero - Division by zero occurred.\n"
          ]
        }
      ]
    },
    {
      "cell_type": "code",
      "source": [
        "#7. How do you log information at different levels (INFO, ERROR, WARNING) in Python using the logging module.\n",
        "\n",
        "import logging\n",
        "\n",
        "# Set up basic configuration for logging\n",
        "logging.basicConfig(level=logging.DEBUG, format='%(levelname)s: %(message)s')\n",
        "\n",
        "# Logging at different levels\n",
        "logging.debug(\"This is a debug message.\")  # For debugging purposes\n",
        "logging.info(\"This is an info message.\")   # For general information\n",
        "logging.warning(\"This is a warning message.\")  # For warnings\n",
        "logging.error(\"This is an error message.\")  # For errors\n",
        "logging.critical(\"This is a critical message.\")  # For critical errors\n",
        ""
      ],
      "metadata": {
        "colab": {
          "base_uri": "https://localhost:8080/"
        },
        "id": "gXTbghVs5kS0",
        "outputId": "4a725119-8bf9-4176-a2e0-c49ce069beb3"
      },
      "execution_count": 13,
      "outputs": [
        {
          "output_type": "stream",
          "name": "stderr",
          "text": [
            "WARNING:root:This is a warning message.\n",
            "ERROR:root:This is an error message.\n",
            "CRITICAL:root:This is a critical message.\n"
          ]
        }
      ]
    },
    {
      "cell_type": "code",
      "source": [
        "#8. Write a program to handle a file opening error using exception handling.\n",
        "\n",
        "try:\n",
        "    # Attempt to open the file in read mode\n",
        "    with open('non_existent_file.txt', 'r') as file:\n",
        "        content = file.read()\n",
        "        print(content)\n",
        "except FileNotFoundError:\n",
        "    print(\"Error: The file does not exist.\")\n",
        "except IOError:\n",
        "    print(\"Error: An I/O error occurred while opening the file.\")\n"
      ],
      "metadata": {
        "colab": {
          "base_uri": "https://localhost:8080/"
        },
        "id": "GfZFnHEr5lXX",
        "outputId": "8e9ccaab-ae17-4a99-cfb3-e7372a69ddf9"
      },
      "execution_count": 14,
      "outputs": [
        {
          "output_type": "stream",
          "name": "stdout",
          "text": [
            "Error: The file does not exist.\n"
          ]
        }
      ]
    },
    {
      "cell_type": "code",
      "source": [
        "#9.  How can you read a file line by line and store its content in a list in Python.\n",
        "\n",
        "# Open the file in read mode\n",
        "with open('file.txt', 'r') as file:\n",
        "    lines = file.readlines()  # Read all lines and store them in a list\n",
        "\n",
        "# Print the list of lines\n",
        "print(lines)\n"
      ],
      "metadata": {
        "colab": {
          "base_uri": "https://localhost:8080/"
        },
        "id": "mxkoD44g5o1U",
        "outputId": "cd2f700d-ca82-4aa9-f0d5-8dc28f2c3ddd"
      },
      "execution_count": 15,
      "outputs": [
        {
          "output_type": "stream",
          "name": "stdout",
          "text": [
            "[]\n"
          ]
        }
      ]
    },
    {
      "cell_type": "code",
      "source": [
        "#10. How can you append data to an existing file in Python?\n",
        "\n",
        "# Open the file in append mode\n",
        "with open('file.txt', 'a') as file:\n",
        "    file.write(\"This is the new data to be appended.\\n\")\n"
      ],
      "metadata": {
        "id": "SS2pZIJz7JNw"
      },
      "execution_count": 16,
      "outputs": []
    },
    {
      "cell_type": "code",
      "source": [
        "#11. Write a Python program that uses a try-except block to handle an error when attempting to access a dictionary key that doesn't exist.\n",
        "\n",
        "# Define a dictionary\n",
        "my_dict = {\"name\": \"Alice\", \"age\": 25}\n",
        "\n",
        "try:\n",
        "    # Attempt to access a non-existing key\n",
        "    value = my_dict[\"address\"]\n",
        "except KeyError:\n",
        "    print(\"Error: The key 'address' does not exist in the dictionary.\")\n"
      ],
      "metadata": {
        "colab": {
          "base_uri": "https://localhost:8080/"
        },
        "id": "RoTJog1Y7O-6",
        "outputId": "aa701335-ad61-4f46-bfd4-331d977a4978"
      },
      "execution_count": 17,
      "outputs": [
        {
          "output_type": "stream",
          "name": "stdout",
          "text": [
            "Error: The key 'address' does not exist in the dictionary.\n"
          ]
        }
      ]
    },
    {
      "cell_type": "code",
      "source": [
        "#12. Write a program that demonstrates using multiple except blocks to handle different types of exceptions\n",
        "\n",
        "try:\n",
        "    # Try to divide by zero\n",
        "    result = 10 / 0\n",
        "except ZeroDivisionError:\n",
        "    print(\"Error: Division by zero is not allowed.\")\n",
        "\n",
        "try:\n",
        "    # Try to access a non-existing file\n",
        "    with open('non_existent_file.txt', 'r') as file:\n",
        "        content = file.read()\n",
        "except FileNotFoundError:\n",
        "    print(\"Error: The file does not exist.\")\n",
        "\n",
        "try:\n",
        "    # Try to convert a string to an integer\n",
        "    num = int(\"abc\")\n",
        "except ValueError:\n",
        "    print(\"Error: Cannot convert 'abc' to an integer.\")\n",
        "\n"
      ],
      "metadata": {
        "colab": {
          "base_uri": "https://localhost:8080/"
        },
        "id": "5Mn9iTxF7SJC",
        "outputId": "49a1d621-7e49-43c2-9a2e-d9f9d8208e84"
      },
      "execution_count": 18,
      "outputs": [
        {
          "output_type": "stream",
          "name": "stdout",
          "text": [
            "Error: Division by zero is not allowed.\n",
            "Error: The file does not exist.\n",
            "Error: Cannot convert 'abc' to an integer.\n"
          ]
        }
      ]
    },
    {
      "cell_type": "code",
      "source": [
        "#13. How would you check if a file exists before attempting to read it in Python\n",
        "\n",
        "import os\n",
        "\n",
        "file_path = 'file.txt'\n",
        "\n",
        "# Check if the file exists\n",
        "if os.path.exists(file_path):\n",
        "    with open(file_path, 'r') as file:\n",
        "        content = file.read()\n",
        "        print(content)\n",
        "else:\n",
        "    print(f\"The file {file_path} does not exist.\")\n"
      ],
      "metadata": {
        "colab": {
          "base_uri": "https://localhost:8080/"
        },
        "id": "LzrIprQ17T_a",
        "outputId": "b36e7cdf-51dd-4f9a-eb56-d34addc9b4e3"
      },
      "execution_count": 19,
      "outputs": [
        {
          "output_type": "stream",
          "name": "stdout",
          "text": [
            "This is the new data to be appended.\n",
            "\n"
          ]
        }
      ]
    },
    {
      "cell_type": "code",
      "source": [
        "#14. Write a program that uses the logging module to log both informational and error messages\n",
        "\n",
        "import logging\n",
        "\n",
        "# Set up basic configuration for logging\n",
        "logging.basicConfig(filename='app.log', level=logging.DEBUG, format='%(asctime)s - %(levelname)s - %(message)s')\n",
        "\n",
        "# Log an informational message\n",
        "logging.info(\"This is an informational message.\")\n",
        "\n",
        "try:\n",
        "    # Simulate a division by zero error\n",
        "    result = 10 / 0\n",
        "except ZeroDivisionError as e:\n",
        "    # Log an error message\n",
        "    logging.error(f\"Error: {e} - Division by zero occurred.\")\n",
        "\n"
      ],
      "metadata": {
        "colab": {
          "base_uri": "https://localhost:8080/"
        },
        "id": "UAuPXOLM7VsR",
        "outputId": "2b62e330-9293-4ea1-a0d2-974b10bc1236"
      },
      "execution_count": 20,
      "outputs": [
        {
          "output_type": "stream",
          "name": "stderr",
          "text": [
            "ERROR:root:Error: division by zero - Division by zero occurred.\n"
          ]
        }
      ]
    },
    {
      "cell_type": "code",
      "source": [
        "#15. Write a Python program that prints the content of a file and handles the case when the file is empty.\n",
        "\n",
        "try:\n",
        "    # Open the file in read mode\n",
        "    with open('file.txt', 'r') as file:\n",
        "        content = file.read()\n",
        "\n",
        "        # Check if the file is empty\n",
        "        if content:\n",
        "            print(content)\n",
        "        else:\n",
        "            print(\"The file is empty.\")\n",
        "except FileNotFoundError:\n",
        "    print(\"Error: The file does not exist.\")\n",
        "\n"
      ],
      "metadata": {
        "colab": {
          "base_uri": "https://localhost:8080/"
        },
        "id": "e_WzddQd7XrH",
        "outputId": "495ad55b-7479-4e34-a922-8334ee2db71f"
      },
      "execution_count": 21,
      "outputs": [
        {
          "output_type": "stream",
          "name": "stdout",
          "text": [
            "This is the new data to be appended.\n",
            "\n"
          ]
        }
      ]
    },
    {
      "cell_type": "code",
      "source": [
        "#16. Demonstrate how to use memory profiling to check the memory usage of a small program.\n",
        "\n"
      ],
      "metadata": {
        "id": "q_zDpCno7e8x"
      },
      "execution_count": null,
      "outputs": []
    },
    {
      "cell_type": "code",
      "source": [
        "#17. Write a Python program to create and write a list of numbers to a file, one number per line\n",
        "\n",
        "# List of numbers\n",
        "numbers = [1, 2, 3, 4, 5, 6, 7, 8, 9, 10]\n",
        "\n",
        "# Open a file in write mode\n",
        "with open('numbers.txt', 'w') as file:\n",
        "    # Write each number to the file on a new line\n",
        "    for number in numbers:\n",
        "        file.write(f\"{number}\\n\")\n",
        "\n",
        "print(\"Numbers have been written to 'numbers.txt'.\")\n"
      ],
      "metadata": {
        "colab": {
          "base_uri": "https://localhost:8080/"
        },
        "id": "0R1Sli6U7hQU",
        "outputId": "872f57fc-e081-42f0-fd5d-a246eee28d79"
      },
      "execution_count": 25,
      "outputs": [
        {
          "output_type": "stream",
          "name": "stdout",
          "text": [
            "Numbers have been written to 'numbers.txt'.\n"
          ]
        }
      ]
    },
    {
      "cell_type": "code",
      "source": [
        "#18. How would you implement a basic logging setup that logs to a file with rotation after 1MB.\n",
        "\n",
        "import logging\n",
        "from logging.handlers import RotatingFileHandler\n",
        "\n",
        "# Set up logging with rotation\n",
        "log_file = 'app.log'\n",
        "\n",
        "# Create a rotating file handler with a maximum file size of 1MB (1024 * 1024 bytes) and 3 backup files\n",
        "handler = RotatingFileHandler(log_file, maxBytes=1*1024*1024, backupCount=3)\n",
        "\n",
        "# Set the log format\n",
        "formatter = logging.Formatter('%(asctime)s - %(levelname)s - %(message)s')\n",
        "handler.setFormatter(formatter)\n",
        "\n",
        "# Set up the logger\n",
        "logger = logging.getLogger()\n",
        "logger.setLevel(logging.DEBUG)  # Log all levels from DEBUG and above\n",
        "logger.addHandler(handler)\n",
        "\n",
        "# Log messages of different levels\n",
        "logger.debug(\"This is a debug message.\")\n",
        "logger.info(\"This is an info message.\")\n",
        "logger.warning(\"This is a warning message.\")\n",
        "logger.error(\"This is an error message.\")\n",
        "logger.critical(\"This is a critical message.\")\n"
      ],
      "metadata": {
        "colab": {
          "base_uri": "https://localhost:8080/"
        },
        "id": "Vqzh61hV7kNs",
        "outputId": "984636d9-ab21-4078-edea-17f271bb382b"
      },
      "execution_count": 26,
      "outputs": [
        {
          "output_type": "stream",
          "name": "stderr",
          "text": [
            "DEBUG:root:This is a debug message.\n",
            "INFO:root:This is an info message.\n",
            "WARNING:root:This is a warning message.\n",
            "ERROR:root:This is an error message.\n",
            "CRITICAL:root:This is a critical message.\n"
          ]
        }
      ]
    },
    {
      "cell_type": "code",
      "source": [
        "#19. Write a program that handles both IndexError and KeyError using a try-except block\n",
        "\n",
        "def handle_errors():\n",
        "    my_list = [1, 2, 3]\n",
        "    my_dict = {'a': 1, 'b': 2}\n",
        "\n",
        "    try:\n",
        "        # Trying to access an index that might not exist\n",
        "        print(my_list[5])  # This will raise IndexError\n",
        "    except IndexError as e:\n",
        "        print(f\"IndexError occurred: {e}\")\n",
        "\n",
        "    try:\n",
        "        # Trying to access a key that might not exist\n",
        "        print(my_dict['c'])  # This will raise KeyError\n",
        "    except KeyError as e:\n",
        "        print(f\"KeyError occurred: {e}\")\n",
        "\n",
        "if __name__ == \"__main__\":\n",
        "    handle_errors()\n"
      ],
      "metadata": {
        "colab": {
          "base_uri": "https://localhost:8080/"
        },
        "id": "ijfdnwRs7l4_",
        "outputId": "43fb51bb-e33b-480e-e61e-f37a3361c40b"
      },
      "execution_count": 27,
      "outputs": [
        {
          "output_type": "stream",
          "name": "stdout",
          "text": [
            "IndexError occurred: list index out of range\n",
            "KeyError occurred: 'c'\n"
          ]
        }
      ]
    },
    {
      "cell_type": "code",
      "source": [
        "#20. How would you open a file and read its contents using a context manager in Python\n",
        "\n",
        "# Using a context manager to open and read a file\n",
        "with open('test.txt', 'r') as file:\n",
        "    # Read the content of the file\n",
        "    content = file.read()\n",
        "\n",
        "# After the 'with' block, the file is automatically closed\n",
        "print(content)\n"
      ],
      "metadata": {
        "colab": {
          "base_uri": "https://localhost:8080/"
        },
        "id": "PcJDm8ns7nln",
        "outputId": "a959d1c7-00a6-4a6b-dd5a-46b75751377b"
      },
      "execution_count": 30,
      "outputs": [
        {
          "output_type": "stream",
          "name": "stdout",
          "text": [
            "\n"
          ]
        }
      ]
    },
    {
      "cell_type": "code",
      "source": [
        "#21. Write a Python program that reads a file and prints the number of occurrences of a specific word\n",
        "\n",
        "def count_word_occurrences(file_name, word):\n",
        "    try:\n",
        "        # Open the file using a context manager\n",
        "        with open(file_name, 'r') as file:\n",
        "            # Initialize a counter for the word occurrences\n",
        "            word_count = 0\n",
        "\n",
        "            # Read each line in the file\n",
        "            for line in file:\n",
        "                # Split the line into words and count occurrences of the specified word\n",
        "                word_count += line.lower().split().count(word.lower())\n",
        "\n",
        "        # Print the number of occurrences of the word\n",
        "        print(f\"The word '{word}' appears {word_count} times in the file.\")\n",
        "\n",
        "    except FileNotFoundError:\n",
        "        print(f\"Error: The file '{file_name}' was not found.\")\n",
        "\n",
        "# Example usage\n",
        "count_word_occurrences('example.txt', 'python')\n"
      ],
      "metadata": {
        "colab": {
          "base_uri": "https://localhost:8080/"
        },
        "id": "SjbA0AHn7poE",
        "outputId": "f539bdb7-99af-4bcf-830a-e906b29e96c1"
      },
      "execution_count": 31,
      "outputs": [
        {
          "output_type": "stream",
          "name": "stdout",
          "text": [
            "Error: The file 'example.txt' was not found.\n"
          ]
        }
      ]
    },
    {
      "cell_type": "code",
      "source": [
        "#22. How can you check if a file is empty before attempting to read its contents\n",
        "\n",
        "import os\n",
        "\n",
        "def read_file_if_not_empty(file_name):\n",
        "    # Check if the file exists and is not empty\n",
        "    if os.path.exists(file_name) and os.path.getsize(file_name) > 0:\n",
        "        with open(file_name, 'r') as file:\n",
        "            # Read the file contents\n",
        "            content = file.read()\n",
        "            print(\"File contents:\")\n",
        "            print(content)\n",
        "    else:\n",
        "        print(f\"The file '{file_name}' is empty or does not exist.\")\n",
        "\n",
        "# Example usage\n",
        "read_file_if_not_empty('example.txt')\n"
      ],
      "metadata": {
        "colab": {
          "base_uri": "https://localhost:8080/"
        },
        "id": "RjdUxkmI7ra_",
        "outputId": "024a885b-9664-44b4-ff5f-963fd1a91b20"
      },
      "execution_count": 32,
      "outputs": [
        {
          "output_type": "stream",
          "name": "stdout",
          "text": [
            "The file 'example.txt' is empty or does not exist.\n"
          ]
        }
      ]
    },
    {
      "cell_type": "code",
      "source": [
        "#23. Write a Python program that writes to a log file when an error occurs during file handling.\n",
        "\n",
        "import logging\n",
        "\n",
        "# Set up logging to log errors to a file\n",
        "logging.basicConfig(filename='file_errors.log', level=logging.ERROR,\n",
        "                    format='%(asctime)s - %(levelname)s - %(message)s')\n",
        "\n",
        "def read_file(file_name):\n",
        "    try:\n",
        "        # Try to open the file and read its contents\n",
        "        with open(file_name, 'r') as file:\n",
        "            content = file.read()\n",
        "            print(content)\n",
        "\n",
        "    except FileNotFoundError:\n",
        "        error_message = f\"File '{file_name}' not found.\"\n",
        "        print(error_message)\n",
        "        logging.error(error_message)\n",
        "\n",
        "    except IOError as e:\n",
        "        error_message = f\"IO error occurred while handling the file '{file_name}': {e}\"\n",
        "        print(error_message)\n",
        "        logging.error(error_message)\n",
        "\n",
        "# Example usage\n",
        "read_file('nonexistent_file.txt')\n",
        "read_file('example.txt')  # Assume this file exists, or change the name to test\n"
      ],
      "metadata": {
        "colab": {
          "base_uri": "https://localhost:8080/"
        },
        "id": "X5ns01nz7tXG",
        "outputId": "8fe51d2e-0937-4616-803b-702ca9bbb8c5"
      },
      "execution_count": 33,
      "outputs": [
        {
          "output_type": "stream",
          "name": "stderr",
          "text": [
            "ERROR:root:File 'nonexistent_file.txt' not found.\n",
            "ERROR:root:File 'example.txt' not found.\n"
          ]
        },
        {
          "output_type": "stream",
          "name": "stdout",
          "text": [
            "File 'nonexistent_file.txt' not found.\n",
            "File 'example.txt' not found.\n"
          ]
        }
      ]
    }
  ]
}